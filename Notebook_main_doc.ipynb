{
 "cells": [
  {
   "cell_type": "markdown",
   "metadata": {},
   "source": [
    "# Otimização de Hiperparâmetros - Algorítimo Genético"
   ]
  },
  {
   "cell_type": "markdown",
   "metadata": {},
   "source": [
    "## Importação de Bibliotecas necessárias"
   ]
  },
  {
   "cell_type": "code",
   "execution_count": 220,
   "metadata": {},
   "outputs": [],
   "source": [
    "from sklearn.datasets import load_wine\n",
    "import pandas as pd\n",
    "import random\n",
    "import numpy as np\n",
    "from sklearn.model_selection import train_test_split, KFold, cross_val_score\n",
    "from sklearn.tree import DecisionTreeClassifier\n",
    "from sklearn.metrics import accuracy_score\n",
    "import matplotlib.pyplot as plt"
   ]
  },
  {
   "cell_type": "markdown",
   "metadata": {},
   "source": [
    "## Carregamento do dataframe que esta sendo utilizado"
   ]
  },
  {
   "cell_type": "code",
   "execution_count": 221,
   "metadata": {},
   "outputs": [],
   "source": [
    "dados_vinho = load_wine()\n",
    "df = pd.DataFrame(dados_vinho.data, columns=dados_vinho.feature_names)\n",
    "df['Result'] = dados_vinho.target"
   ]
  },
  {
   "cell_type": "markdown",
   "metadata": {},
   "source": [
    "## Tratamento dos dados caso existam dados vazios no dataframe"
   ]
  },
  {
   "cell_type": "code",
   "execution_count": 222,
   "metadata": {},
   "outputs": [],
   "source": [
    "for i in df.columns:\n",
    "    if df[i].dtype in (np.float64, np.int32):\n",
    "        df[i].fillna(0)\n",
    "    else:\n",
    "        df[i].fillna('Na')"
   ]
  },
  {
   "cell_type": "markdown",
   "metadata": {},
   "source": [
    "## Definição das variáveis independentes e dependentes e separação de bases"
   ]
  },
  {
   "cell_type": "code",
   "execution_count": 223,
   "metadata": {},
   "outputs": [],
   "source": [
    "x = np.asanyarray(df[['alcohol','malic_acid','ash','alcalinity_of_ash','magnesium','total_phenols','flavanoids','nonflavanoid_phenols','proanthocyanins','color_intensity','hue','od280/od315_of_diluted_wines','proline']].values)\n",
    "y = np.asanyarray(df[['Result']].values)\n",
    "x_treino, x_teste, y_treino, y_teste = train_test_split(x,y,test_size=0.3,random_state=28)"
   ]
  },
  {
   "cell_type": "markdown",
   "metadata": {},
   "source": [
    "## Criação da função população para geração aleatória de indivíduos"
   ]
  },
  {
   "cell_type": "code",
   "execution_count": 224,
   "metadata": {},
   "outputs": [],
   "source": [
    "def Populacao(Tam_pop):\n",
    "    populacao = []\n",
    "    for i in range(0,Tam_pop):\n",
    "        individuo = []\n",
    "        #Escolha aleatória do critério utilizado na árvore\n",
    "        criterio = random.choice(['gini','entropy','log_loss'])\n",
    "        individuo.append(criterio)\n",
    "\n",
    "        #Escolha aleatória de max_depth da árvore\n",
    "        max_depth = random.randint(1,15)\n",
    "        individuo.append(max_depth)\n",
    "\n",
    "        #Escolha aleatória no mínimo de amostras\n",
    "        min_samples_leaf = random.randint(2,20)\n",
    "        individuo.append(min_samples_leaf)\n",
    "\n",
    "        #Esolha aleatória do mínimo de amostras\n",
    "        min_samples_split = random.randint(2,20)\n",
    "        individuo.append(min_samples_split)\n",
    "\n",
    "        populacao.append(individuo)\n",
    "    return populacao"
   ]
  },
  {
   "cell_type": "markdown",
   "metadata": {},
   "source": [
    "## Criação da Função Mutação para o retorno do indivíduo mutado"
   ]
  },
  {
   "cell_type": "code",
   "execution_count": 225,
   "metadata": {},
   "outputs": [],
   "source": [
    "def Mutacao(individuo):\n",
    "    # Mutação na profundidade máxima\n",
    "    if random.random() < taxa_mutacao:\n",
    "        max_depth = random.randint(1, 15)\n",
    "        individuo[1] = max_depth\n",
    "    \n",
    "    # Mutação no critério\n",
    "    if random.random() < taxa_mutacao:\n",
    "        criterio = random.choice(['gini', 'entropy','log_loss'])\n",
    "        individuo[0] = criterio\n",
    "    \n",
    "    # Mutação no número mínimo de amostras na folha\n",
    "    if random.random() < taxa_mutacao:\n",
    "        min_samples_leaf = random.randint(2, 20)\n",
    "        individuo[2] = min_samples_leaf\n",
    "\n",
    "    # Mutação no número mínimo de amostras para divisão\n",
    "    if random.random() < taxa_mutacao:\n",
    "        min_samples_split = random.randint(2, 20)\n",
    "        individuo[3] = min_samples_split\n",
    "\n",
    "    return individuo"
   ]
  },
  {
   "cell_type": "markdown",
   "metadata": {},
   "source": [
    "## Criação da função seleção"
   ]
  },
  {
   "cell_type": "code",
   "execution_count": 226,
   "metadata": {},
   "outputs": [],
   "source": [
    "def Selecao(populacao):\n",
    "    populacao_ordenada = sorted(populacao, key = lambda x : Fitness(x),reverse = True)\n",
    "    pais_selecionados_para_cruzamento = populacao_ordenada[:len(populacao_ordenada)//2]\n",
    "    return pais_selecionados_para_cruzamento"
   ]
  },
  {
   "cell_type": "markdown",
   "metadata": {},
   "source": [
    "## Criação da Função Fitness"
   ]
  },
  {
   "cell_type": "code",
   "execution_count": 227,
   "metadata": {},
   "outputs": [],
   "source": [
    "def Fitness(individuo):\n",
    "    tree = DecisionTreeClassifier(max_depth = individuo[1], criterion= individuo[0], min_samples_leaf= individuo[2], min_samples_split= individuo[3])\n",
    "    tree.fit(x_treino, y_treino)\n",
    "    y_pred = tree.predict(x_teste)\n",
    "    accuracy = accuracy_score(y_teste, y_pred)\n",
    "    return accuracy"
   ]
  },
  {
   "cell_type": "markdown",
   "metadata": {},
   "source": [
    "## Criação da função de Cruzamento entre os pais selecionados"
   ]
  },
  {
   "cell_type": "code",
   "execution_count": 228,
   "metadata": {},
   "outputs": [],
   "source": [
    "def Cruzamento(pai1, pai2):\n",
    "    # Criando filhos\n",
    "    filho1 = []\n",
    "    filho2 = []\n",
    "    \n",
    "    # Adicionando o critério ao filho 1 e ao filho 2\n",
    "    filho1.append(pai1[0])\n",
    "    filho2.append(pai2[0])\n",
    "\n",
    "    # Adicionando o max_depth ao filho 1 e ao filho 2\n",
    "    filho1.append(pai1[1])\n",
    "    filho2.append(pai2[1])\n",
    "    \n",
    "    for i in range(2, len(pai1)):\n",
    "        if i % 2 == 0:\n",
    "            filho1.append(pai1[i])\n",
    "            filho2.append(pai2[i])\n",
    "        else:\n",
    "            filho1.append(pai2[i])\n",
    "            filho2.append(pai1[i])\n",
    "    \n",
    "    return filho1, filho2"
   ]
  },
  {
   "cell_type": "markdown",
   "metadata": {},
   "source": [
    "## Definição de parâmetros"
   ]
  },
  {
   "cell_type": "code",
   "execution_count": 229,
   "metadata": {},
   "outputs": [],
   "source": [
    "#Definição de parâmetros\n",
    "Tam_pop = 50\n",
    "geracoes = 20\n",
    "taxa_mutacao = 0.28"
   ]
  },
  {
   "cell_type": "markdown",
   "metadata": {},
   "source": [
    "## Definição do algorítimo genético"
   ]
  },
  {
   "cell_type": "code",
   "execution_count": 230,
   "metadata": {},
   "outputs": [],
   "source": [
    "#Definição do Algorítimo genético\n",
    "populacao = Populacao(Tam_pop)\n",
    "melhores_acuracias = []\n",
    "for i in range(geracoes):\n",
    "    proxima_geracao = []\n",
    "    while len(proxima_geracao) < Tam_pop:\n",
    "        pai1, pai2 = random.sample(Selecao(populacao),2)\n",
    "        filho1, filho2 = Cruzamento(pai1, pai2)\n",
    "        filho1 = Mutacao(filho1)\n",
    "        filho2 = Mutacao(filho2)\n",
    "        proxima_geracao.append(filho1)\n",
    "        proxima_geracao.append(filho2)\n",
    "    populacao = proxima_geracao\n",
    "    melhor_da_geracao = max(populacao, key = Fitness)\n",
    "    melhores_acuracias.append(Fitness(melhor_da_geracao))"
   ]
  },
  {
   "cell_type": "markdown",
   "metadata": {},
   "source": [
    "## Definição da melhor solução"
   ]
  },
  {
   "cell_type": "code",
   "execution_count": 231,
   "metadata": {},
   "outputs": [
    {
     "name": "stdout",
     "output_type": "stream",
     "text": [
      "Acurácia gerada pelo algorítimo genético 0.9629629629629629\n",
      "Foi utilizado o critério: entropy\n",
      "Foi utilizado como max_depth: 6\n",
      "Foi utilizado como min_samples_leaf: 3\n",
      "Foi utilizado como min_samples_split: 14\n"
     ]
    }
   ],
   "source": [
    "#Melhor solução\n",
    "melhor_s = max(populacao, key = lambda x : Fitness(x))\n",
    "tree = DecisionTreeClassifier(max_depth = melhor_s[1], criterion= melhor_s[0], min_samples_leaf= melhor_s[2], min_samples_split= melhor_s[3])\n",
    "tree.fit(x_treino, y_treino)\n",
    "y_pred = tree.predict(x_teste)\n",
    "accuracy = accuracy_score(y_teste, y_pred)\n",
    "print(f'Acurácia gerada pelo algorítimo genético {accuracy}')\n",
    "print(f'Foi utilizado o critério: {melhor_s[0]}')\n",
    "print(f'Foi utilizado como max_depth: {melhor_s[1]}')\n",
    "print(f'Foi utilizado como min_samples_leaf: {melhor_s[2]}')\n",
    "print(f'Foi utilizado como min_samples_split: {melhor_s[3]}')"
   ]
  },
  {
   "cell_type": "markdown",
   "metadata": {},
   "source": [
    "## Resultados ao longo das gerações (Acurácia)"
   ]
  },
  {
   "cell_type": "code",
   "execution_count": 232,
   "metadata": {},
   "outputs": [
    {
     "data": {
      "image/png": "[encoded data removed]",
      "text/plain": [
       "<Figure size 800x200 with 1 Axes>"
      ]
     },
     "metadata": {},
     "output_type": "display_data"
    }
   ],
   "source": [
    "plt.figure(figsize=(8, 2))\n",
    "plt.plot(range(geracoes), melhores_acuracias, marker='o')\n",
    "plt.xlabel('Geração')\n",
    "plt.ylabel('Melhor Acurácia')\n",
    "plt.title('Acurácia ao longo das gerações')\n",
    "plt.grid(True)\n",
    "plt.show()"
   ]
  },
  {
   "cell_type": "markdown",
   "metadata": {},
   "source": [
    "### Validação Cruzada com K-fold"
   ]
  },
  {
   "cell_type": "code",
   "execution_count": 233,
   "metadata": {},
   "outputs": [
    {
     "name": "stdout",
     "output_type": "stream",
     "text": [
      "Média dos scores de cada divisão: 0.9038095238095238\n",
      "Variabilidade da acurácia entre todas as dobras: 0.056670001235754934\n"
     ]
    }
   ],
   "source": [
    "kf = KFold(n_splits= 5, random_state= 28, shuffle=True)\n",
    "tree = DecisionTreeClassifier(criterion=melhor_s[0], max_depth=melhor_s[1], min_samples_leaf=melhor_s[2], min_samples_split=melhor_s[3])\n",
    "scores = cross_val_score(tree, x, y, cv=kf, scoring='accuracy')\n",
    "\n",
    "# Resultados\n",
    "print(f'Média dos scores de cada divisão: {scores.mean()}')\n",
    "print(f'Variabilidade da acurácia entre todas as dobras: {scores.std()}')"
   ]
  },
  {
   "cell_type": "markdown",
   "metadata": {},
   "source": [
    "## Conclusão\n",
    "##### A acurácia média de 90,38% e a variabilidade de 5,67% indicam que o modelo Decision Tree treinado com hiperparâmetros otimizados via algoritmo genético tem uma performance excelente, embora haja alguma variabilidade entre as diferentes dobras. No entanto, sempre há espaço para melhorias adicionais por meio de ajuste de hiperparâmetros, comparação com outros modelos e técnicas de validação mais robustas."
   ]
  }
 ],
 "metadata": {
  "kernelspec": {
   "display_name": "Python 3",
   "language": "python",
   "name": "python3"
  },
  "language_info": {
   "codemirror_mode": {
    "name": "ipython",
    "version": 3
   },
   "file_extension": ".py",
   "mimetype": "text/x-python",
   "name": "python",
   "nbconvert_exporter": "python",
   "pygments_lexer": "ipython3",
   "version": "3.12.2"
  }
 },
 "nbformat": 4,
 "nbformat_minor": 2
}
